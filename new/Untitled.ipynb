{
 "cells": [
  {
   "cell_type": "code",
   "execution_count": 1,
   "id": "08df0e2e-7288-4954-9acd-1b1f5072c4a2",
   "metadata": {},
   "outputs": [],
   "source": [
    "import re"
   ]
  },
  {
   "cell_type": "code",
   "execution_count": 23,
   "id": "7bc7469d-e52a-45de-abde-9e9d1fcedc0d",
   "metadata": {},
   "outputs": [],
   "source": [
    "chat1 = \"too many questions asked 123456789 9568451203 ashish@gmail.com 15678ashish@gmail.com\"\n",
    "chat2 = \"(123)-456-7890 is my order number and the email is ash_ish1@gmail.com\"\n",
    "chat3 = \"lets say you want to find my order so you'll use this regex , with the phone number 123456789 and email ashish@mail.com\""
   ]
  },
  {
   "cell_type": "code",
   "execution_count": 37,
   "id": "4821420d-6d26-4a41-9958-fc10256523a2",
   "metadata": {},
   "outputs": [],
   "source": [
    "p1 = '\\d{10}|\\(\\d{3}\\)-\\d{3}-\\d{4}'\n",
    "p2=  '[a-z0-9A-Z_]*@[a-zA-Z0-9]*\\.[a-zA-Z]*'\n",
    "mails = re.findall(p2,chat1)\n",
    "phone = re.findall(p1,chat1)"
   ]
  },
  {
   "cell_type": "code",
   "execution_count": 38,
   "id": "2c1b18b8-530b-4a6f-9652-642f79cd07d2",
   "metadata": {},
   "outputs": [
    {
     "name": "stdout",
     "output_type": "stream",
     "text": [
      "ashish@gmail.com\n",
      "15678ashish@gmail.com\n"
     ]
    }
   ],
   "source": [
    "for i in mails:\n",
    "    print(i)\n"
   ]
  },
  {
   "cell_type": "code",
   "execution_count": 39,
   "id": "907e0749-4d7b-44de-bd34-9d4371bd90aa",
   "metadata": {},
   "outputs": [],
   "source": [
    "for j in phone:\n",
    "    print(j)"
   ]
  },
  {
   "cell_type": "code",
   "execution_count": null,
   "id": "c2991be8-009a-4514-bbc8-f7fd28f920ef",
   "metadata": {},
   "outputs": [],
   "source": []
  }
 ],
 "metadata": {
  "kernelspec": {
   "display_name": "Python 3 (ipykernel)",
   "language": "python",
   "name": "python3"
  },
  "language_info": {
   "codemirror_mode": {
    "name": "ipython",
    "version": 3
   },
   "file_extension": ".py",
   "mimetype": "text/x-python",
   "name": "python",
   "nbconvert_exporter": "python",
   "pygments_lexer": "ipython3",
   "version": "3.10.13"
  }
 },
 "nbformat": 4,
 "nbformat_minor": 5
}
